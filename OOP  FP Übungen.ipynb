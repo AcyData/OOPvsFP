{
 "cells": [
  {
   "cell_type": "markdown",
   "id": "16656243",
   "metadata": {},
   "source": [
    "### Übungsaufgabe: Erstelle deinen eigenen Stern\n",
    "Suche dir einen Stern aus folgender Liste aus oder wähle einen Stern deiner Wahl und sammle im Internet die nötigen Infos, die du zum erstellen dieses Sterns als Instanz der Klasse Stern brauchst: \n",
    "\n",
    "Polarstern, Sirius, Pollux, Alpha Centauri, Beteigeuze, …\n"
   ]
  },
  {
   "cell_type": "code",
   "execution_count": null,
   "id": "61abb66b",
   "metadata": {},
   "outputs": [],
   "source": [
    "class stern():\n",
    "\n",
    "    # Attribute\n",
    "    def __init__(self, name = \"\", masse = 0, radius = 0, leuchtkraft = 0, temperatur = 0):\n",
    "        self.name = name\n",
    "        self.masse = masse\n",
    "        self.radius = radius\n",
    "        self.leuchtkraft = leuchtkraft \n",
    "        self.temperatur = temperatur\n",
    "        \n",
    "    #Methoden\n",
    "    def kollabieren():\n",
    "        pass\n",
    "\n",
    "    def erhitzen(self, erwärmung = 0):\n",
    "        self.temperatur += erwärmung\n",
    "\n",
    "        return \"Neue Temperatur:\", self.temperatur\n",
    "    def abkühlen():\n",
    "        pass"
   ]
  },
  {
   "cell_type": "markdown",
   "id": "1e6505bd-6be2-4471-91d6-19aa94bcae2e",
   "metadata": {},
   "source": [
    "### Übungsaufgabe: Vererbung\n",
    "    1. Die Klasse Pulsar soll von der Klasse Neutronenstern erben\n",
    "    2. Sie soll das zusätzliche Atrribut Pulsfrequenz haben"
   ]
  },
  {
   "cell_type": "code",
   "execution_count": 19,
   "id": "0e7863e5-1359-4b47-a1b9-59959552cbb2",
   "metadata": {},
   "outputs": [],
   "source": [
    "class Stern():\n",
    "    def __init__(self, name, masse, temperatur):\n",
    "        self.name = name\n",
    "        self.masse = masse\n",
    "        self.teperatur = temperatur\n",
    "        \n",
    "class Neutronenstern(Stern):\n",
    "    def __init__(self, name, masse, temperatur, magnetfeld, rotation):\n",
    "        super().__init__(name, masse, temperatur)   \n",
    "        self.magnetfeld = magnetfeld         \n",
    "        self.rotation = rotation              "
   ]
  },
  {
   "cell_type": "markdown",
   "id": "df2a3a7e",
   "metadata": {},
   "source": [
    "### Übungsaufgabe: Polymorphismus\n",
    "Die Astronauten Hans (Botaniker, 24 J), Jean-Claude (Ingenieur, 25 J) und Harry (Data Scientist, 27 J) treffen sich zum Abendessen, bevor sie mit der Rakete zum Mond fliegen. Schreibe den Code so, dass sich die Astronauten gegenseitig im Restaurant vorstellen.\n",
    "\n",
    "Tipps:\n",
    "Alle Astronauten in einer Liste speichern\n",
    "for-Schleife nutzen\n"
   ]
  },
  {
   "cell_type": "code",
   "execution_count": null,
   "id": "563d8f53",
   "metadata": {},
   "outputs": [],
   "source": [
    "class Astronaut():\n",
    "    def __init__(self, name = \"\", beruf = \"\", alter = 0):\n",
    "        self.name = name\n",
    "        self.beruf = beruf\n",
    "        self.alter = alter\n",
    "\n",
    "class DeutscherAstornaut(Astronaut):\n",
    "    def __init__(self, name = \"\", beruf = \"\", alter = 0, sprache = \"\" ):\n",
    "        super().__init__(name, beruf, alter)\n",
    "        self.sprache = sprache\n",
    "\n",
    "    def grüßen(sprache):\n",
    "        return \"Hallo!\"\n",
    "\n",
    "class FranzösischerAstornaut(Astronaut):\n",
    "    def __init__(self, name = \"\", beruf = \"\", alter = 0, sprache = \"\" ):\n",
    "        super().__init__(name, beruf, alter)\n",
    "        self.sprache = sprache\n",
    "\n",
    "    def grüßen(sprache):\n",
    "        return \"Salut!\"\n",
    "\n",
    "class EnglischerAstornaut(Astronaut):\n",
    "    def __init__(self, name = \"\", beruf = \"\", alter = 0, sprache = \"\" ):\n",
    "        super().__init__(name, beruf, alter)\n",
    "        self.sprache = sprache\n",
    "\n",
    "    def grüßen(sprache):\n",
    "        return \"Hello!\""
   ]
  },
  {
   "cell_type": "markdown",
   "id": "a4b595c8-0360-4f72-a960-a8d372ccdadc",
   "metadata": {},
   "source": [
    "### Übungsaufgabe: Verkapselung\n",
    "Implementiere die Methode set_temperatur(neue_temperatur), die es ermöglicht, die Temperatur des Sterns zu ändern, aber nur wenn die neue Temperatur größer als 0 ist"
   ]
  },
  {
   "cell_type": "code",
   "execution_count": null,
   "id": "5b68dc31-b4e9-46eb-a040-e9cdf21402a2",
   "metadata": {},
   "outputs": [],
   "source": [
    "class Stern:\n",
    "    def __init__(self, name, masse, temperatur, kernzusammensetzung):\n",
    "        self.name = name  # Öffentlich\n",
    "        self.masse = masse  # Öffentlich\n",
    "        self._temperatur = temperatur  # Geschützt\n",
    "        self.__kernzusammensetzung = \"Wasserstoff & Helium\"  # Privat\n",
    "\n",
    "    def get_kernzusammensetzung(self):\n",
    "        return self.__kernzusammensetzung\n",
    "\n",
    "    def set_kernzusammensetzung(self, neue_zusammensetzung):\n",
    "        if neue_zusammensetzung in [\"Wasserstoff\", \"Helium\", \"Sauerstoff\", \"Kohlenstoff\", \"Magnesium\", \"Stickstoff\", \"Silizium\", \"Eisen\"]:\n",
    "            self.__kernzusammensetzung = neue_zusammensetzung\n",
    "        else:\n",
    "            print(\"Ungültige Zusammensetzung!\")"
   ]
  },
  {
   "cell_type": "markdown",
   "id": "2636c742",
   "metadata": {},
   "source": [
    "### Übungsaufgabe: Abstraktion\n",
    "Füge im Beispiel die abstrakte Methode stopfen(self) hinzu.\n",
    "Für schwarze Löcher soll ausgegeben werden: „Bisher wurde noch keine Methode entwickelt, mit der das geht!“\n",
    "Für Golflöcher soll ausgegeben werden: „Das ist aber gemein, so hat doch keiner eine Chance auf den Sieg!“\n"
   ]
  },
  {
   "cell_type": "code",
   "execution_count": null,
   "id": "8adfa3c9",
   "metadata": {},
   "outputs": [],
   "source": [
    "from abc import ABC, abstractmethod\n",
    "\n",
    "class Loch(ABC):\n",
    "\n",
    "    @abstractmethod\n",
    "    def verschlingen(self):\n",
    "        pass\n",
    "\n",
    "class SchwarzesLoch(Loch):\n",
    "    def __init__(self, masse = 0, drehimpuls = 0, ladung = 0):\n",
    "        self.masse = masse\n",
    "        self.drehimpuls = drehimpuls\n",
    "        self.ladung = ladung\n",
    "\n",
    "    def verschlingen(self):\n",
    "        print(\"Warnung: Deine Rakete wurde von einem schwarzen Loch verschlungen!\")\n",
    "\n",
    "class GolfLoch(Loch):\n",
    "    def __init__(self, tiefe = 0, druchmesser = 0):\n",
    "        self.tiefe = tiefe\n",
    "        self.druchmesser = druchmesser\n",
    "\n",
    "    def verschlingen(self):\n",
    "        print(\"Gratulation! Du hast getroffen!\")"
   ]
  },
  {
   "cell_type": "markdown",
   "id": "0e0f84d7-677c-409e-80c4-4826eb296a11",
   "metadata": {},
   "source": [
    "### Übungsaufgabe: lambda mit filter() und map()\n",
    "1. Filtern: Verwende filter() mit einer lambda-Funktion, um nur die ungeraden Zahlen aus der Liste zu behalten.\n",
    "2. Transformieren: Verwende map() mit einer lambda-Funktion, um die gefilterten Zahlen zu verdoppeln.\n",
    "3. Gib die finale Liste aus."
   ]
  },
  {
   "cell_type": "code",
   "execution_count": 27,
   "id": "7043c8ab-e73c-4845-b724-61238dd909de",
   "metadata": {},
   "outputs": [],
   "source": [
    "zahlen = [1, 2, 3, 4, 5, 6, 7, 8, 9, 10]"
   ]
  },
  {
   "cell_type": "markdown",
   "id": "a87e8126",
   "metadata": {},
   "source": [
    "### Vergleichsaufgabe\n",
    "Erstelle zwei Versionen eines Programms, das die Wurzel aus jeder Zahl aus folgender Liste zieht – einmal mit OOP, einmal mit FP:\n",
    "\n",
    "zahlenliste = [1156, 2500, 5929, 529, 289]\n"
   ]
  }
 ],
 "metadata": {
  "kernelspec": {
   "display_name": "Python 3 (ipykernel)",
   "language": "python",
   "name": "python3"
  },
  "language_info": {
   "codemirror_mode": {
    "name": "ipython",
    "version": 3
   },
   "file_extension": ".py",
   "mimetype": "text/x-python",
   "name": "python",
   "nbconvert_exporter": "python",
   "pygments_lexer": "ipython3",
   "version": "3.12.4"
  }
 },
 "nbformat": 4,
 "nbformat_minor": 5
}
