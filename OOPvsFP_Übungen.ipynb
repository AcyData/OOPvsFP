{
 "cells": [
  {
   "cell_type": "markdown",
   "id": "16656243",
   "metadata": {},
   "source": [
    "### Übungsaufgabe: Erstelle deinen eigenen Stern ⭐️\n",
    "    Suche dir einen Stern aus folgender Liste aus oder wähle einen Stern deiner Wahl und sammle im Internet die nötigen Infos, die du zum erstellen dieses Sterns als Instanz der Klasse Stern brauchst:\n",
    "\n",
    "    Polarstern, Sirius, Pollux, Alpha Centauri, Beteigeuze, …\n"
   ]
  },
  {
   "cell_type": "code",
   "execution_count": null,
   "id": "61abb66b",
   "metadata": {},
   "outputs": [],
   "source": [
    "class Stern():\n",
    "\n",
    "    # Attribute\n",
    "    def __init__(self, name = \"\", masse = 1, radius = 1, leuchtkraft = 1, temperatur = 0):\n",
    "        self.name = name\n",
    "        self.masse = masse\n",
    "        self.radius = radius\n",
    "        self.leuchtkraft = leuchtkraft \n",
    "        self.temperatur = temperatur\n",
    "        \n",
    "    #Methoden\n",
    "    def kollabieren(self):\n",
    "        pass\n",
    "\n",
    "    def erhitzen(self, erwaermung = 0):\n",
    "        self.temperatur += erwaermung\n",
    "\n",
    "        return \"Neue Temperatur:\", self.temperatur\n",
    "    def abkuehlen(self):\n",
    "        pass"
   ]
  },
  {
   "cell_type": "markdown",
   "id": "1e6505bd-6be2-4471-91d6-19aa94bcae2e",
   "metadata": {},
   "source": [
    "### Übungsaufgabe: Vererbung 👶\n",
    "    1. Die Klasse Pulsar soll von der Klasse Neutronenstern erben\n",
    "    2. Sie soll das zusätzliche Attribut Pulsfrequenz haben"
   ]
  },
  {
   "cell_type": "code",
   "execution_count": 19,
   "id": "0e7863e5-1359-4b47-a1b9-59959552cbb2",
   "metadata": {},
   "outputs": [],
   "source": [
    "class Stern():\n",
    "    def __init__(self, name, masse, temperatur):\n",
    "        self.name = name\n",
    "        self.masse = masse\n",
    "        self.teperatur = temperatur\n",
    "        \n",
    "class Neutronenstern(Stern):\n",
    "    def __init__(self, name, masse, temperatur, magnetfeld, rotation):\n",
    "        super().__init__(name, masse, temperatur)   \n",
    "        self.magnetfeld = magnetfeld         \n",
    "        self.rotation = rotation              "
   ]
  },
  {
   "cell_type": "markdown",
   "id": "df2a3a7e",
   "metadata": {},
   "source": [
    "### Übungsaufgabe: Polymorphismus 🎭\n",
    "    Die Astronauten Hans (Botaniker, 24 J), Jean-Claude (Ingenieur, 25 J) und Harry (Data Scientist, 27 J) treffen sich zum Abendessen, bevor sie mit der Rakete zum Mond fliegen. Schreibe den Code so, dass sich die Astronauten gegenseitig im Restaurant vorstellen.\n",
    "\n",
    "    Tipps:\n",
    "    Alle Astronauten in einer Liste speichern\n",
    "    for-Schleife nutzen\n"
   ]
  },
  {
   "cell_type": "code",
   "id": "563d8f53",
   "metadata": {
    "ExecuteTime": {
     "end_time": "2025-04-10T16:39:09.859640Z",
     "start_time": "2025-04-10T16:39:09.856113Z"
    }
   },
   "source": [
    "class Astronaut():\n",
    "    def __init__(self, name = \"\", beruf = \"\", alter = 0):\n",
    "        self.name = name\n",
    "        self.beruf = beruf\n",
    "        self.alter = alter\n",
    "\n",
    "class DeutscherAstronaut(Astronaut):\n",
    "    def __init__(self, name = \"\", beruf = \"\", alter = 0, sprache = \"\" ):\n",
    "        super().__init__(name, beruf, alter)\n",
    "        self.sprache = sprache\n",
    "\n",
    "    def gruessen(self):\n",
    "        return \"Hallo!\"\n",
    "\n",
    "class FranzoesischerAstronaut(Astronaut):\n",
    "    def __init__(self, name = \"\", beruf = \"\", alter = 0, sprache = \"\" ):\n",
    "        super().__init__(name, beruf, alter)\n",
    "        self.sprache = sprache\n",
    "\n",
    "    def gruessen(self):\n",
    "        return \"Salut!\"\n",
    "\n",
    "class EnglischerAstronaut(Astronaut):\n",
    "    def __init__(self, name = \"\", beruf = \"\", alter = 0, sprache = \"\" ):\n",
    "        super().__init__(name, beruf, alter)\n",
    "        self.sprache = sprache\n",
    "\n",
    "    def gruessen(self):\n",
    "        return \"Hello!\""
   ],
   "outputs": [],
   "execution_count": 11
  },
  {
   "cell_type": "markdown",
   "id": "a4b595c8-0360-4f72-a960-a8d372ccdadc",
   "metadata": {},
   "source": [
    "### Übungsaufgabe: Verkapselung 🔒\n",
    "    Implementiere die Methode set_temperatur(neue_temperatur), die es ermöglicht, die Temperatur des Sterns zu ändern, aber nur, wenn die neue Temperatur größer als 0 ist"
   ]
  },
  {
   "cell_type": "code",
   "execution_count": null,
   "id": "5b68dc31-b4e9-46eb-a040-e9cdf21402a2",
   "metadata": {},
   "outputs": [],
   "source": [
    "class Stern():\n",
    "    def __init__(self, name, masse, temperatur, kernzusammensetzung):\n",
    "        self.name = name  # Öffentlich\n",
    "        self.masse = masse  # Öffentlich\n",
    "        self._temperatur = temperatur  # Geschützt\n",
    "        self.__kernzusammensetzung = \"Wasserstoff & Helium\"  # Privat\n",
    "\n",
    "    def get_kernzusammensetzung(self):\n",
    "        return self.__kernzusammensetzung\n",
    "\n",
    "    def set_kernzusammensetzung(self, neue_zusammensetzung):\n",
    "        if neue_zusammensetzung in [\"Wasserstoff\", \"Helium\", \"Sauerstoff\", \"Kohlenstoff\", \"Magnesium\", \"Stickstoff\", \"Silizium\", \"Eisen\"]:\n",
    "            self.__kernzusammensetzung = neue_zusammensetzung\n",
    "        else:\n",
    "            print(\"Ungueltige Zusammensetzung!\")"
   ]
  },
  {
   "cell_type": "markdown",
   "id": "2636c742",
   "metadata": {},
   "source": [
    "### Übungsaufgabe: Abstraktion 💡\n",
    "    Füge im Beispiel die abstrakte Methode stopfen(self) hinzu.\n",
    "    Für schwarze Löcher soll ausgegeben werden: „Bisher wurde noch keine Methode entwickelt, mit der das geht!“\n",
    "    Für Golflöcher soll ausgegeben werden: „Das ist aber gemein, so hat doch keiner eine Chance auf den Sieg!“\n"
   ]
  },
  {
   "cell_type": "code",
   "execution_count": null,
   "id": "8adfa3c9",
   "metadata": {},
   "outputs": [],
   "source": [
    "from abc import ABC, abstractmethod\n",
    "\n",
    "class Loch(ABC):\n",
    "\n",
    "    @abstractmethod\n",
    "    def verschlingen(self):\n",
    "        pass\n",
    "\n",
    "class SchwarzesLoch(Loch):\n",
    "    def __init__(self, masse = 0, drehimpuls = 0, ladung = 0):\n",
    "        self.masse = masse\n",
    "        self.drehimpuls = drehimpuls\n",
    "        self.ladung = ladung\n",
    "\n",
    "    def verschlingen(self):\n",
    "        print(\"Warnung: Deine Rakete wurde von einem schwarzen Loch verschlungen!\")\n",
    "\n",
    "class GolfLoch(Loch):\n",
    "    def __init__(self, tiefe = 0, druchmesser = 0):\n",
    "        self.tiefe = tiefe\n",
    "        self.druchmesser = druchmesser\n",
    "\n",
    "    def verschlingen(self):\n",
    "        print(\"Gratulation! Du hast getroffen!\")"
   ]
  },
  {
   "cell_type": "markdown",
   "id": "43d45f053e297ab5",
   "metadata": {},
   "source": [
    "### Einsteigeraufgaben zu lambda Funktionen 👩‍💻\n",
    "    1. Erstelle eine Lambda Funktion, die zu einer Zahl 10 dazu addiert.\n",
    "    2. Erstelle eine Lambda Funktion, die eine Zahl halbiert.\n",
    "    3. Erstelle eine Lambda Funktion, die eine Zahl n mit der Zahl n+1 multipliziert.\n"
   ]
  },
  {
   "cell_type": "markdown",
   "id": "9cde18f33f3308c3",
   "metadata": {},
   "source": [
    "### Fortgeschrittene Aufgaben zu lambda Funktionen 🏃‍♀️\n",
    "    1. Sortiere die folgende Liste nach der Wortlänge, indem du eine lambda Funktion mit sorted() kombinierst: sterne = [\"Polarstern\", \"Sirius\", \"Sonne\", \"AlphaCentauri\", \"Pollux\", \"Castor\", \"Regulus\"]\n",
    "    2. Sortiere die folgende Liste anhand des zweiten Elements in jedem Tupel. Verwende auch hier eine Kombination aus sorted() und einer lambda Funktion: punkte = [(1, 2), (3, 1), (5, 0), (2, 4)]\n",
    "    3. Sortiere die folgende Liste nach dem gleichen Schema zuerst nach Alter und dann Name: personen = [(\"Lisa\", 25), (\"Tom\", 30), (\"Anna\", 25), (\"Max\", 22)]\n"
   ]
  },
  {
   "cell_type": "markdown",
   "id": "0e0f84d7-677c-409e-80c4-4826eb296a11",
   "metadata": {},
   "source": [
    "### Übungsaufgabe: lambda mit filter() und map() 🗺️\n",
    "    1. Filtern: Verwende filter() mit einer lambda-Funktion, um nur die ungeraden Zahlen aus der Liste zu behalten.\n",
    "    2. Transformieren: Verwende map() mit einer lambda-Funktion, um die gefilterten Zahlen zu verdoppeln.\n",
    "    3. Gib die finale Liste aus."
   ]
  },
  {
   "cell_type": "code",
   "execution_count": 27,
   "id": "7043c8ab-e73c-4845-b724-61238dd909de",
   "metadata": {},
   "outputs": [],
   "source": [
    "zahlen = [1, 2, 3, 4, 5, 6, 7, 8, 9, 10]"
   ]
  },
  {
   "cell_type": "markdown",
   "id": "a87e8126",
   "metadata": {},
   "source": [
    "### Vergleichsaufgabe ⚔️\n",
    "Erstelle zwei Versionen eines Programms, das die Wurzel aus jeder Zahl aus folgender Liste zieht – einmal mit OOP, einmal mit FP:\n",
    "\n",
    "zahlenliste = [1156, 2500, 5929, 529, 289]\n"
   ]
  },
  {
   "cell_type": "code",
   "execution_count": null,
   "id": "aa0743eb152ae08",
   "metadata": {},
   "outputs": [],
   "source": [
    "#OOP\n",
    "zahlenliste = [1156, 2500, 5929, 529, 289]"
   ]
  },
  {
   "cell_type": "code",
   "execution_count": null,
   "id": "ede7c6c429a6ae6a",
   "metadata": {},
   "outputs": [],
   "source": [
    "#FP\n",
    "zahlenliste = [1156, 2500, 5929, 529, 289]"
   ]
  },
  {
   "metadata": {},
   "cell_type": "markdown",
   "source": [
    "### Extra: Lambda Funktionen auf DataFrames anwenden 🐼\n",
    "    1.Lade den Datensatz \"Olympics\" und erstelle daraus ein Pandas DataFrame.\n",
    "    2.Ertselle mit apply() eine neue Spalte \"Total\", indem du die utils Funktion add_meds() als Input übergibst ODER benutze die built-in function sum.\n",
    "    3. Nun soll eine neue Spalte \"Status\" basierend auf \"Total\" erstellt werden, die in einem Adjektiv ausdrückt, wie das Land performt hat. Nutze dafür eine lambda Funktion. Das sind die Adjektive:\n",
    "\n",
    "    100 oder mehr Medaillen: \"Marvelous\"\n",
    "    Zwischen 50 und 99 Medaillen: \"Fantastic\"\n",
    "    Zwischen 10 und 49 Medaillen: \"Great\"\n",
    "    Zwischen 1 und 9 Medaillen: \"Good\"\n",
    "    0 Medaillen: \"Improving\"\n"
   ],
   "id": "4ecdc41599eeb7ff"
  },
  {
   "metadata": {},
   "cell_type": "markdown",
   "source": [
    "### Good to know: Instance variables vs Class variables 𝓧\n",
    "    Folgende Aufgaben sind wörtlich übernommen aus Session 8 von Herr Oelker:\n"
   ],
   "id": "52370875cf4b4fb8"
  },
  {
   "metadata": {},
   "cell_type": "markdown",
   "source": [
    "1. This exercise is concerned with class variables. Create a class `Counter` with a class-level variable `instance_count`. Define an `__init__` method that increments `instance_count` every time a new object is created. Define a method `get_instance_count()` that returns the current count of instances. Instantiate several objects and call the `get_instance_count()` method.\n",
    "\n",
    "2. Now, we look at the difference between class-level variables and instance-level variables. Define the `Employee` class with\n",
    "    - a class-level variable `company_name` and\n",
    "    - an instance-level variable `employee_name` initialized in the constructor.\n",
    "   Create a method `get_employee_info()` that prints both the `employee_name` and the `company_name`. Create two instances of the `Employee` class. Modify the `company_name` using the class, and observe how it affects all instances. Modify the `employee_name` for one instance and observe how it only affects that particular instance."
   ],
   "id": "f0b953df7e0e24d7"
  }
 ],
 "metadata": {
  "kernelspec": {
   "display_name": "Python 3 (ipykernel)",
   "language": "python",
   "name": "python3"
  },
  "language_info": {
   "codemirror_mode": {
    "name": "ipython",
    "version": 3
   },
   "file_extension": ".py",
   "mimetype": "text/x-python",
   "name": "python",
   "nbconvert_exporter": "python",
   "pygments_lexer": "ipython3",
   "version": "3.12.4"
  }
 },
 "nbformat": 4,
 "nbformat_minor": 5
}
